{
 "cells": [
  {
   "cell_type": "code",
   "execution_count": 2,
   "metadata": {},
   "outputs": [],
   "source": [
    "import json\n",
    "import requests\n",
    "import time\n",
    "import hmac\n",
    "import hashlib\n",
    "import base64\n",
    "import urllib\n",
    "from urllib import parse\n",
    "\n",
    "def send_msg(url,data):\n",
    "    headers = {'Content-Type': 'application/json;charset=utf-8'}\n",
    "    r = requests.post(url,data = json.dumps(data),headers=headers)\n",
    "    return r.text\n",
    "\n",
    "def auth(secret):\n",
    "\n",
    "    timestamp = round(time.time() * 1000)\n",
    "    secret = secret #秘钥\n",
    "    secret_enc = bytes(secret.encode('utf-8'))\n",
    "    string_to_sign = '{}\\n{}'.format(timestamp, secret) #把 timestamp+\"\\n\"+密钥 当做签名字符串 string_to_sign\n",
    "    string_to_sign_enc = bytes(string_to_sign.encode('utf-8'))\n",
    "    hmac_code = hmac.new(secret_enc, string_to_sign_enc, digestmod=hashlib.sha256).digest() #使用HmacSHA256算法计算签名，得到 hmac_code\n",
    "    hmac_code_base64=base64.b64encode(hmac_code) #将hmac_code进行Base64 encode\n",
    "    sign = urllib.parse.quote(hmac_code_base64) #进行urlEncode，得到最终的签名sign\n",
    "    authlist=[timestamp,sign]\n",
    "\n",
    "    return authlist\n"
   ]
  },
  {
   "cell_type": "code",
   "execution_count": 27,
   "metadata": {},
   "outputs": [],
   "source": [
    "## 周报action card 模板\n",
    "data = {\n",
    "        \"msgtype\": \"actionCard\",\n",
    "        \"actionCard\": {\n",
    "        \"title\": \"本周新鲜周报速递！！！\", \n",
    "        \"text\": \"![screenshot](https://z3.ax1x.com/2021/03/23/6HkwkQ.png) \\n\\n #### yyyy-mm-dd周报更新 \\n\\n xxxx热点事件\", \n",
    "        \"hideAvatar\": \"0\", \n",
    "        \"btnOrientation\": \"0\", \n",
    "        \"btns\": [\n",
    "            {\n",
    "                \"title\": \"火速前往围观\", \n",
    "                \"actionURL\": \"https://app.powerbi.com/view?r=eyJrIjoiNjE1ZGNhNTctNDBkMC00ZDlhLTkyYTItN2RkMTI2OGM3NjlkIiwidCI6IjliMDZjZjIyLWU3ZWEtNDAyNC05M2MxLTc1ZDIwMzcyNDQwNCIsImMiOjJ9&pageName=ReportSection1aaf7ed627f15c909673\"\n",
    "            }, \n",
    "        ]\n",
    "    }\n",
    "}\n",
    "\n",
    "authlist = auth(\"SEC88e24cb9bfb1e03fa3a16b0a7178be096195e04ee2b4de14f70730e0711eb3c8\")\n",
    "\n",
    "url = \"https://oapi.dingtalk.com/robot/send?access_token=93a7cb87a383eb56aa17cec7313b21c5e8cd6cdee5ab2db1c7718cc9b0d923ee\"+\"&timestamp=\"+str(authlist[0])+\"&sign=\"+authlist[1]\n",
    "\n",
    "#print(send_msg(url,data))"
   ]
  },
  {
   "cell_type": "code",
   "execution_count": 36,
   "metadata": {},
   "outputs": [
    {
     "name": "stdout",
     "output_type": "stream",
     "text": [
      "{\"errcode\":0,\"errmsg\":\"ok\"}\n"
     ]
    }
   ],
   "source": [
    "## 瓜姐 VIP版消息提醒\n",
    "import random\n",
    "L = [\"无情小瓜\",\"瓜瓜最无敌\",\"善良小瓜\",\"卑微小瓜\",\"努力瓜瓜\",\"不是陈金燕是瓜瓜\"]\n",
    "data = {\n",
    "         \"msgtype\": \"text\",\n",
    "         \"text\": {\n",
    "             \"content\": \"{}, 你的填充率变高啦! 快滚去看!!!\".format(random.choice(L))\n",
    "         },\n",
    "         \"at\": {\n",
    "             \"atMobiles\": [\n",
    "                 \"15927426803\"\n",
    "             ], \n",
    "             \"isAtAll\": False\n",
    "         }\n",
    "}\n",
    "\n",
    "authlist = auth(\"SEC88e24cb9bfb1e03fa3a16b0a7178be096195e04ee2b4de14f70730e0711eb3c8\")\n",
    "\n",
    "url = \"https://oapi.dingtalk.com/robot/send?access_token=93a7cb87a383eb56aa17cec7313b21c5e8cd6cdee5ab2db1c7718cc9b0d923ee\"+\"&timestamp=\"+str(authlist[0])+\"&sign=\"+authlist[1]\n",
    "\n",
    "#print(send_msg(url,data))"
   ]
  },
  {
   "cell_type": "code",
   "execution_count": 4,
   "metadata": {},
   "outputs": [
    {
     "name": "stdout",
     "output_type": "stream",
     "text": [
      "{\"errcode\":0,\"errmsg\":\"ok\"}\n"
     ]
    }
   ],
   "source": [
    "## 周报action card 模板\n",
    "data = {\n",
    "     \"msgtype\": \"text\",\n",
    "         \"text\": {\n",
    "             \"content\": \"Hello, This is a test message\"\n",
    "         }\n",
    "}\n",
    "\n",
    "authlist = auth(\"SEC88e24cb9bfb1e03fa3a16b0a7178be096195e04ee2b4de14f70730e0711eb3c8\")\n",
    "\n",
    "url = \"https://oapi.dingtalk.com/robot/send?access_token=93a7cb87a383eb56aa17cec7313b21c5e8cd6cdee5ab2db1c7718cc9b0d923ee\"+\"&timestamp=\"+str(authlist[0])+\"&sign=\"+authlist[1]\n",
    "\n",
    "print(send_msg(url,data))"
   ]
  },
  {
   "cell_type": "code",
   "execution_count": null,
   "metadata": {},
   "outputs": [],
   "source": []
  }
 ],
 "metadata": {
  "kernelspec": {
   "display_name": "Python 3",
   "language": "python",
   "name": "python3"
  },
  "language_info": {
   "codemirror_mode": {
    "name": "ipython",
    "version": 3
   },
   "file_extension": ".py",
   "mimetype": "text/x-python",
   "name": "python",
   "nbconvert_exporter": "python",
   "pygments_lexer": "ipython3",
   "version": "3.8.8"
  }
 },
 "nbformat": 4,
 "nbformat_minor": 4
}
