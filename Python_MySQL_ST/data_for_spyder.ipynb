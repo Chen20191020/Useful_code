{
 "cells": [
  {
   "cell_type": "code",
   "execution_count": 12,
   "metadata": {},
   "outputs": [],
   "source": [
    "import pymysql\n",
    "import requests,json\n",
    "import pandas as pd\n",
    "import numpy as np\n",
    "import matplotlib.pyplot as plt \n",
    "\n",
    "\n",
    "conn = pymysql.connect(host='124.156.172.225', user='powerbi_user', passwd='1powerBI987', db='market_bi')\n",
    "cur=conn.cursor()\n",
    "cur.execute('''\n",
    "             SELECT product_id, unified_name FROM aa_app_rank_weekly WHERE DATE='2021-03-01' and platform = 'android' limit 300\n",
    "            '''\n",
    "           )\n",
    "aa_rank_weekly = cur.fetchall()\n",
    "df_aa_rank_weekly  = pd.DataFrame(list(aa_rank_weekly))\n",
    "df_aa_rank_weekly.to_csv(\"aa_app_rank_weekly_android.csv\") \n",
    "\n"
   ]
  },
  {
   "cell_type": "code",
   "execution_count": 15,
   "metadata": {
    "scrolled": true
   },
   "outputs": [],
   "source": [
    "conn = pymysql.connect(host='124.156.172.225', user='powerbi_user', passwd='1powerBI987', db='market_bi')\n",
    "cur=conn.cursor()\n",
    "cur.execute('''\n",
    "             SELECT product_id FROM st_app_rank_weekly WHERE DATE='2021-03-01' and platform = 'ios' limit 300\n",
    "            '''\n",
    "           )\n",
    "st_rank_weekly = cur.fetchall()\n",
    "df_st_rank_weekly  = pd.DataFrame(list(st_rank_weekly))\n",
    "df_st_rank_weekly.to_csv(\"st_app_rank_weekly_ios.csv\") \n",
    "\n",
    "\n"
   ]
  },
  {
   "cell_type": "code",
   "execution_count": 16,
   "metadata": {
    "scrolled": false
   },
   "outputs": [],
   "source": [
    "conn = pymysql.connect(host='124.156.172.225', user='powerbi_user', passwd='1powerBI987', db='market_bi')\n",
    "cur=conn.cursor()\n",
    "cur.execute('''\n",
    "             SELECT product_id, app_name FROM st_app_info WHERE platform = 'ios'\n",
    "            '''\n",
    "           )\n",
    "st_info= cur.fetchall()\n",
    "df_st_info  = pd.DataFrame(list(st_info))\n",
    "df_st_info.to_csv(\"st_app_info_ios.csv\") \n",
    "\n",
    "# 1: product_id"
   ]
  },
  {
   "cell_type": "code",
   "execution_count": 18,
   "metadata": {},
   "outputs": [],
   "source": [
    "conn = pymysql.connect(host='124.156.172.225', user='powerbi_user', passwd='1powerBI987', db='market_bi')\n",
    "cur=conn.cursor()\n",
    "cur.execute('''\n",
    "            \n",
    "SELECT product_id, app_name from aa_app_info WHERE bundle_id IN  \n",
    "(SELECT product_id FROM \n",
    "(SELECT * FROM st_app_rank_weekly WHERE DATE = '2021-03-01' AND platform = 'android' ORDER BY RANK LIMIT 300) AS d\n",
    "LEFT JOIN \n",
    "(SELECT * FROM \n",
    "(SELECT product_id AS id_product,  bundle_id FROM aa_app_info WHERE platform = 'android') AS a  \n",
    "JOIN\n",
    "(SELECT product_id AS aa_product_id FROM aa_app_rank_weekly WHERE DATE='2021-03-01' AND platform = 'android') AS b\n",
    "ON(a.id_product = b.aa_product_id)) AS c\n",
    "ON(d.product_id = c.bundle_id) \n",
    "WHERE id_product IS NULL\n",
    ");\n",
    "\n",
    "\n",
    "            '''\n",
    "           )\n",
    "aa_add = cur.fetchall()\n",
    "df_aa_add  = pd.DataFrame(list(aa_add))\n",
    "df_aa_add.to_csv(\"aa_add.csv\") \n",
    "# 1: product_id"
   ]
  },
  {
   "cell_type": "code",
   "execution_count": 21,
   "metadata": {},
   "outputs": [],
   "source": [
    "conn = pymysql.connect(host='124.156.172.225', user='powerbi_user', passwd='1powerBI987', db='market_bi')\n",
    "cur=conn.cursor()\n",
    "cur.execute('''\n",
    "             SELECT product_id, unified_name FROM aa_app_rank_weekly WHERE DATE='2021-03-01' and platform = 'ios' limit 300\n",
    "            '''\n",
    "           )\n",
    "aa_rank_weekly = cur.fetchall()\n",
    "df_aa_rank_weekly  = pd.DataFrame(list(aa_rank_weekly))\n",
    "df_aa_rank_weekly.to_csv(\"aa_app_rank_weekly_ios.csv\") \n",
    "# 2: product_id "
   ]
  },
  {
   "cell_type": "code",
   "execution_count": 25,
   "metadata": {},
   "outputs": [],
   "source": [
    "conn = pymysql.connect(host='124.156.172.225', user='powerbi_user', passwd='1powerBI987', db='market_bi')\n",
    "cur=conn.cursor()\n",
    "cur.execute('''\n",
    "             SELECT product_id, app_name FROM aa_app_info where platform = 'android'\n",
    "            '''\n",
    "           )\n",
    "aa_rank_weekly = cur.fetchall()\n",
    "df_aa_rank_weekly  = pd.DataFrame(list(aa_rank_weekly))\n",
    "df_aa_rank_weekly.to_csv(\"aa_app_info_android.csv\") "
   ]
  },
  {
   "cell_type": "code",
   "execution_count": null,
   "metadata": {},
   "outputs": [],
   "source": []
  }
 ],
 "metadata": {
  "kernelspec": {
   "display_name": "Python 3",
   "language": "python",
   "name": "python3"
  },
  "language_info": {
   "codemirror_mode": {
    "name": "ipython",
    "version": 3
   },
   "file_extension": ".py",
   "mimetype": "text/x-python",
   "name": "python",
   "nbconvert_exporter": "python",
   "pygments_lexer": "ipython3",
   "version": "3.6.4"
  }
 },
 "nbformat": 4,
 "nbformat_minor": 2
}
