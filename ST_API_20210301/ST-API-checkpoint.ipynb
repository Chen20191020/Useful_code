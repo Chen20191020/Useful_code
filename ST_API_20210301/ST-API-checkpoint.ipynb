{
 "cells": [
  {
   "cell_type": "code",
   "execution_count": 1,
   "metadata": {},
   "outputs": [],
   "source": [
    "import requests,json\n",
    "import pandas as pd\n",
    "import numpy as np"
   ]
  },
  {
   "cell_type": "code",
   "execution_count": 2,
   "metadata": {},
   "outputs": [],
   "source": [
    "PK = pd.read_excel('跑酷2020app.xlsx')"
   ]
  },
  {
   "cell_type": "markdown",
   "metadata": {},
   "source": [
    "## Preprocessing"
   ]
  },
  {
   "cell_type": "code",
   "execution_count": 12,
   "metadata": {},
   "outputs": [],
   "source": [
    "#-FUU3vVN3MB4cmYLdWVW\n",
    "r_ios = requests.get('https://api.sensortower.com:443/v1/ios/search_entities?entity_type=app&term='+ PK['Unified Name'][0]+\n",
    "                   '&limit=100&auth_token=FUU3vVN3MB4cmYLdWVW')"
   ]
  },
  {
   "cell_type": "code",
   "execution_count": 14,
   "metadata": {},
   "outputs": [
    {
     "data": {
      "text/plain": [
       "'Minion Rush: Despicable Me Official Game'"
      ]
     },
     "execution_count": 14,
     "metadata": {},
     "output_type": "execute_result"
    }
   ],
   "source": [
    "PK['Unified Name'][0]"
   ]
  },
  {
   "cell_type": "code",
   "execution_count": 3,
   "metadata": {},
   "outputs": [],
   "source": [
    "AppName = PK['Unified Name'].apply(lambda x: str(x).replace(' ','&')).tolist()"
   ]
  },
  {
   "cell_type": "code",
   "execution_count": 4,
   "metadata": {},
   "outputs": [
    {
     "data": {
      "text/plain": [
       "['Minion&Rush:&Despicable&Me&Official&Game',\n",
       " 'Temple&Run&2',\n",
       " 'Geometry&Dash&Lite',\n",
       " 'Color&Bump&3D',\n",
       " 'Talking&Tom&Gold&Run',\n",
       " 'Temple&Run',\n",
       " 'Jetpack&Joyride',\n",
       " 'Rise&Up',\n",
       " 'Sonic&Dash&-&Endless&Runner',\n",
       " 'Jelly&Shift',\n",
       " 'Cube&Surfer!',\n",
       " 'Talking&Tom&Hero&Dash&-&Run&Game',\n",
       " 'Square&Bird',\n",
       " 'Sky&Roller',\n",
       " 'Miraculous&Ladybug&&&Cat&Noir',\n",
       " 'Stack&Colors!',\n",
       " 'Steve&-&Widget&Game',\n",
       " 'Color&Switch',\n",
       " 'Brick&Builder!',\n",
       " 'Tag&with&Ryan',\n",
       " 'Touchdown&Master',\n",
       " 'Spiral&Roll',\n",
       " 'Tiles&Hop:&EDM&Rush!',\n",
       " 'Dancing&Road:&Color&Ball&Run!',\n",
       " 'Stack&Ball&-&Blast&through&platforms',\n",
       " \"Push'em&all\",\n",
       " 'Tower&Run',\n",
       " 'Square&Bird',\n",
       " 'Roof&Rails',\n",
       " 'Helix&Jump',\n",
       " 'Samurai&Flash',\n",
       " 'Crazy&Kick!',\n",
       " 'Beat&Blader&3D:&Dash&and&Slash!',\n",
       " 'Stair&Run',\n",
       " 'Rush&Hour&3D',\n",
       " 'OverTake',\n",
       " 'Picker&3D',\n",
       " 'Run&Sausage&Run!',\n",
       " 'Snake&VS&Block',\n",
       " 'Faby&Bird&:&The&Flappy&Adventure',\n",
       " 'Rolling&Sky',\n",
       " 'Sonic&Dash&2:&Sonic&Boom',\n",
       " 'Jumanji:&Epic&Run',\n",
       " 'Bouncemasters',\n",
       " 'Murder&Hornet',\n",
       " 'Coin&Rush!']"
      ]
     },
     "execution_count": 4,
     "metadata": {},
     "output_type": "execute_result"
    }
   ],
   "source": [
    "AppName"
   ]
  },
  {
   "cell_type": "code",
   "execution_count": null,
   "metadata": {},
   "outputs": [],
   "source": [
    "df = pd.DataFrame()\n",
    "df['App Name'] = PK['Unified Name']"
   ]
  },
  {
   "cell_type": "markdown",
   "metadata": {},
   "source": [
    "## 获取应用信息"
   ]
  },
  {
   "cell_type": "code",
   "execution_count": null,
   "metadata": {},
   "outputs": [],
   "source": [
    "app_id_ios = []\n",
    "publisher_name_ios = []\n",
    "publisher_id_ios = []\n",
    "release_date_ios = []\n",
    "icon_url_ios = []\n",
    "\n",
    "app_id_android = []\n",
    "publisher_name_android = []\n",
    "publisher_id_android = []\n",
    "release_date_android = []\n",
    "icon_url_android = []\n",
    "\n",
    "app_id_unified = []\n",
    "publisher_name_unified = []\n",
    "publisher_id_unified = []\n",
    "\n",
    "for i in range(len(AppName)):\n",
    "    r_ios = requests.get('https://api.sensortower.com:443/v1/ios/search_entities?entity_type=app&term='+ AppName[i] +\n",
    "                   '&limit=100&auth_token=r7cTTJq5nBSqxMU_WmJo')\n",
    "    r_android = requests.get('https://api.sensortower.com:443/v1/android/search_entities?entity_type=app&term='+ AppName[i] +\n",
    "                   '&limit=100&auth_token=r7cTTJq5nBSqxMU_WmJo')\n",
    "    r_unified  = requests.get('https://api.sensortower.com:443/v1/unified/search_entities?entity_type=app&term='+ AppName[i] +\n",
    "                   '&limit=100&auth_token=r7cTTJq5nBSqxMU_WmJo')\n",
    "    ios_json = r_ios.json()\n",
    "    android_json = r_android.json()\n",
    "    unified_json = r_unified.json()\n",
    "    \n",
    "    # Unified\n",
    "    for m in range(len(unified_json)):\n",
    "        if unified_json[m]['name'] == df['App Name'][i]:\n",
    "            app_id_unified.append(r_unified.json()[0]['app_id'])\n",
    "            publisher_name_unified.append(r_unified.json()[0]['publisher_name'])\n",
    "            publisher_id_unified.append(r_unified.json()[0]['publisher_id'])\n",
    "            \n",
    "    \n",
    "    # iOS\n",
    "    for j in range(len(ios_json)):\n",
    "        if ios_json[j]['name'] == df['App Name'][i]:\n",
    "            if ios_json[0]['canonical_country'] == 'US':\n",
    "                app_id_ios.append(ios_json[0]['app_id'])\n",
    "                publisher_name_ios.append(ios_json[0]['publisher_name'])\n",
    "                publisher_id_ios.append(ios_json[0]['publisher_id'])\n",
    "                release_date_ios.append(ios_json[0]['release_date'])    \n",
    "                icon_url_ios.append(ios_json[0]['icon_url'])\n",
    "            else:\n",
    "                app_id_ios.append('DNE')\n",
    "                publisher_name_ios.append('DNE')\n",
    "                publisher_id_ios.append('DNE')\n",
    "                release_date_ios.append('DNE')    \n",
    "                icon_url_ios.append('DNE')\n",
    "     # Android\n",
    "    for k in range(len(android_json)):\n",
    "        if android_json[k]['name'] == df['App Name'][i]:\n",
    "            if android_json[0]['canonical_country'] == 'US':\n",
    "                app_id_android.append(r_android.json()[0]['app_id'])\n",
    "                publisher_name_android.append(r_android.json()[0]['publisher_name'])\n",
    "                publisher_id_android.append(r_android.json()[0]['publisher_id'])\n",
    "                release_date_android.append(r_android.json()[0]['release_date'])    \n",
    "                icon_url_android.append(r_android.json()[0]['icon_url'])\n",
    "            else:\n",
    "                app_id_android.append('DNE')\n",
    "                publisher_name_android.append('DNE')\n",
    "                publisher_id_android.append('DNE')\n",
    "                release_date_android.append('DNE')    \n",
    "                icon_url_android.append('DNE')"
   ]
  },
  {
   "cell_type": "code",
   "execution_count": null,
   "metadata": {},
   "outputs": [],
   "source": [
    "app_id_ios"
   ]
  },
  {
   "cell_type": "code",
   "execution_count": null,
   "metadata": {},
   "outputs": [],
   "source": [
    "df['app_id_ios'] = app_id_ios\n",
    "df['publisher_name_ios'] = publisher_name_ios\n",
    "df['publisher_id_ios'] = publisher_id_ios\n",
    "df['release_date_ios'] = release_date_ios\n",
    "df['icon_url_ios']= icon_url_ios\n",
    "\n",
    "df['app_id_android'] = app_id_android\n",
    "df['publisher_name_android'] = publisher_name_android\n",
    "df['publisher_id_android'] = publisher_id_android\n",
    "df['release_date_android'] = release_date_android\n",
    "df['icon_url_android']= icon_url_android\n",
    "\n",
    "df['app_id_unified'] = app_id_unified\n",
    "df['publisher_name_unified'] = publisher_name_unified\n",
    "df['publisher_id_unified'] = publisher_id_unified\n",
    "\n",
    "# 对日期处理\n",
    "df['release_date_ios'] = df['release_date_ios'].apply(lambda x: str(x)[:10])\n",
    "df['release_date_android'] = df['release_date_android'].apply(lambda x: str(x)[:10])"
   ]
  },
  {
   "cell_type": "code",
   "execution_count": null,
   "metadata": {},
   "outputs": [],
   "source": [
    "len(app_id_ios)"
   ]
  },
  {
   "cell_type": "markdown",
   "metadata": {},
   "source": [
    "## 获取下载量"
   ]
  },
  {
   "cell_type": "code",
   "execution_count": null,
   "metadata": {},
   "outputs": [],
   "source": [
    "# 将Unified_id整合成一串string（逗号分隔）\n",
    "unified_id = df['app_id_unified'].tolist()\n",
    "id_string = ''\n",
    "for i in unified_id:\n",
    "    id_string += i+','\n",
    "id_string = id_string[:-1]\n",
    "\n",
    "# CountryCode\n",
    "country_code = ['WW','JP','TW','KR','GB','CA','AU','SG','CH','HK','MO','DE']\n",
    "cc = 'WW,JP,TW,KR,GB,CA,AU,SG,CH,HK,MO,DE'"
   ]
  },
  {
   "cell_type": "code",
   "execution_count": null,
   "metadata": {},
   "outputs": [],
   "source": [
    "df['app_id_unified']"
   ]
  },
  {
   "cell_type": "code",
   "execution_count": null,
   "metadata": {},
   "outputs": [],
   "source": [
    "id_string"
   ]
  },
  {
   "cell_type": "code",
   "execution_count": null,
   "metadata": {},
   "outputs": [],
   "source": [
    "r_download = requests.get('https://api.sensortower.com:443/v1/unified/sales_report_estimates?'+\n",
    "                 'app_ids='+ id_string +\n",
    "                 '&countries='+ cc +\n",
    "                 '&date_granularity=monthly'+\n",
    "                 '&start_date=2012-01-01'+\n",
    "                 '&end_date=2020-12-29'+\n",
    "                 '&auth_token=r7cTTJq5nBSqxMU_WmJo')"
   ]
  },
  {
   "cell_type": "code",
   "execution_count": null,
   "metadata": {},
   "outputs": [],
   "source": [
    "download = r_download.json()"
   ]
  },
  {
   "cell_type": "code",
   "execution_count": null,
   "metadata": {},
   "outputs": [],
   "source": [
    "download[9200]['app_id']"
   ]
  },
  {
   "cell_type": "code",
   "execution_count": null,
   "metadata": {
    "scrolled": true
   },
   "outputs": [],
   "source": [
    "temp = {}\n",
    "country_code = ['WW','JP','TW','KR','GB','CA','AU','SG','CH','HK','MO','DE']\n",
    "for i in country_code:\n",
    "    temp[i + '_Android'] = {}\n",
    "    temp[i + '_iOS'] = {}\n",
    "    temp[i + '_Android_revenue'] = {}\n",
    "    temp[i + '_iOS'] = {}\n",
    "\n",
    "for i in download:\n",
    "    temp1 = {}\n",
    "    if 'android_units' in list(i.keys()):\n",
    "        if i['app_id'] not in temp[i['country'] + '_Android'].keys():\n",
    "            temp[i['country'] + '_Android'][i['app_id']] = 0\n",
    "        temp[i['country'] + '_Android'][i['app_id']] += i['android_units']\n",
    "    if 'ipad_units' in list(i.keys()):\n",
    "        if i['app_id'] not in temp[i['country'] + '_iOS'].keys():\n",
    "            temp[i['country'] + '_iOS'][i['app_id']] = 0\n",
    "        temp[i['country'] + '_iOS'][i['app_id']] += i['ipad_units']\n",
    "    if 'iphone_units' in list(i.keys()):\n",
    "        if i['app_id'] not in temp[i['country'] + '_iOS'].keys():\n",
    "            temp[i['country'] + '_iOS'][i['app_id']] = 0\n",
    "        temp[i['country'] + '_iOS'][i['app_id']] += i['iphone_units']\n",
    "    #revenue\n",
    "    \n",
    "    if 'android_revenue' in list(i.keys()):\n",
    "        if i['app_id'] not in temp[i['country'] + '_Android_revenue'].keys():\n",
    "            temp[i['country'] + '_Android_revenue'][i['app_id']] = 0\n",
    "        temp[i['country'] + '_Android_revenue'][i['app_id']] += i['android_revenue']\n",
    "    if 'iphone_revenue' in list(i.keys()):\n",
    "        if i['app_id'] not in temp[i['country'] + '_iOS_revenue'].keys():\n",
    "            temp[i['country'] + '_iOS_revenue'][i['app_id']] = 0\n",
    "        temp[i['country'] + '_iOS_revenue'][i['app_id']] += i['iphone_revenue']\n",
    "    if 'ipad_revenue' in list(i.keys()):\n",
    "        if i['app_id'] not in temp[i['country'] + '_iOS_revenue'].keys():\n",
    "            temp[i['country'] + '_iOS_revenue'][i['app_id']] = 0\n",
    "        temp[i['country'] + '_iOS_revenue'][i['app_id']] += i['ipad_revenue']\n",
    "    #temp['app_id'] = temp1\n",
    "    \n",
    "\n",
    "download_df = pd.DataFrame(temp)\n",
    "download_df = download_df.fillna(0)\n",
    "\n",
    "colnames = download_df.columns.tolist()\n",
    "for i in range(1,len(colnames)):\n",
    "    if colnames[i][:2] == colnames[i-1][:2]:\n",
    "        download_df[colnames[i][:2]+'_Total'] = download_df[colnames[i]]+download_df[colnames[i-1]]"
   ]
  },
  {
   "cell_type": "code",
   "execution_count": null,
   "metadata": {},
   "outputs": [],
   "source": [
    "download_df"
   ]
  },
  {
   "cell_type": "code",
   "execution_count": null,
   "metadata": {},
   "outputs": [],
   "source": [
    "download_df\n",
    "#download_df.to_csv('download_df.csv')"
   ]
  },
  {
   "cell_type": "markdown",
   "metadata": {},
   "source": [
    "## Ranking"
   ]
  },
  {
   "cell_type": "code",
   "execution_count": null,
   "metadata": {},
   "outputs": [],
   "source": [
    "'''\n",
    "android_rank = []\n",
    "ios_rank = []\n",
    "for unified in unified_id:\n",
    "    for j in range (len(df['app_id_unified'])):\n",
    "        if unified == df['app_id_unified'][j]:\n",
    "            if df['app_id_android'][j] != 'DNE':\n",
    "                r_rank_android = requests.get('https://api.sensortower.com/v1/android/category/category_history?'+\n",
    "                      'app_id='+ df['app_id_android'][j]+\n",
    "                      '&category=6014'+\n",
    "                      '&chart_type_id=topselling_free'+\n",
    "                      '&country=US'+\n",
    "                      '&start_date=2012-01-01'+\n",
    "                      '&end_date=2020-12-31'+\n",
    "                      '&auth_token=r7cTTJq5nBSqxMU_WmJo')\n",
    "                templist = r_rank_android.json()[df['app_id_android'][j]]['US']['6014']['topselling_free']['graphData']\n",
    "                android_rank.append(min([i[1] for i in templist]))\n",
    "            else:\n",
    "                android_rank.append('DNE')\n",
    "                \n",
    "            if df['app_id_ios'][j] != 'DNE':\n",
    "                r_rank_ios = requests.get('https://api.sensortower.com/v1/ios/category/category_history?'+\n",
    "                      'app_id='+ df['app_id_ios'][j] +\n",
    "                      '&category=6014'+\n",
    "                      '&chart_type_id=topfreeapplications'+\n",
    "                     ' &country=US'+\n",
    "                      '&start_date=2012-01-01'+\n",
    "                      '&end_date=2020-12-31'+\n",
    "                      '&auth_token=r7cTTJq5nBSqxMU_WmJo')\n",
    "                templist = r_rank_ios.json()[df['app_id_ios'][j]]['US']['6014']['topfreeapplications']['graphData']\n",
    "                ios_rank.append(min([i[1] for i in templist]))\n",
    "            else:\n",
    "                ios_rank.append('DNE')\n",
    "'''\n"
   ]
  },
  {
   "cell_type": "code",
   "execution_count": null,
   "metadata": {},
   "outputs": [],
   "source": [
    "android_rank = []\n",
    "ios_rank = []\n",
    "for unified in unified_id:\n",
    "    for j in range (len(df['app_id_unified'])): \n",
    "        if unified == df['app_id_unified'][j]:\n",
    "            if df['app_id_ios'][j] != 'DNE':\n",
    "                r_rank_ios = requests.get('https://api.sensortower.com/v1/ios/category/category_history?'+\n",
    "                      'app_id='+ str(df['app_id_ios'][j]) +\n",
    "                      '&category=6014'+\n",
    "                      '&chart_type_id=topfreeapplications'+\n",
    "                      '&country=US'+\n",
    "                      '&start_date=2012-01-01'+\n",
    "                      '&end_date=2020-12-31'+\n",
    "                      '&auth_token=r7cTTJq5nBSqxMU_WmJo')\n",
    "                temp_json = r_rank_ios.json()\n",
    "                if str(df['app_id_ios'][j]) in temp_json:\n",
    "                    templist = temp_json[str(df['app_id_ios'][j])]['US']['6014']['topfreeapplications']['graphData']\n",
    "                    ios_rank.append(min([i[1] for i in templist]))\n",
    "                else:\n",
    "                    ios_rank.append('DNE')\n",
    "            else:\n",
    "                ios_rank.append('DNE')\n",
    "            \n",
    "            \n",
    "            \n",
    "            if df['app_id_android'][j] != 'DNE':\n",
    "                r_rank_android = requests.get('https://api.sensortower.com/v1/android/category/category_history?'+\n",
    "                      'app_id='+ df['app_id_android'][j]+\n",
    "                      '&category=6014'+\n",
    "                      '&chart_type_id=topselling_free'+\n",
    "                      '&country=US'+\n",
    "                      '&start_date=2012-01-01'+\n",
    "                      '&end_date=2020-12-31'+\n",
    "                      '&auth_token=r7cTTJq5nBSqxMU_WmJo')\n",
    "                temp_json = r_rank_android.json()\n",
    "                if str(df['app_id_android'][j]) in temp_json:\n",
    "                    templist = r_rank_android.json()[df['app_id_android'][j]]['US']['6014']['topselling_free']['graphData']\n",
    "                    android_rank.append(min([i[1] for i in templist]))\n",
    "                else:\n",
    "                    android_rank.append('DNE')\n",
    "            else:\n",
    "                android_rank.append('DNE')"
   ]
  },
  {
   "cell_type": "code",
   "execution_count": null,
   "metadata": {},
   "outputs": [],
   "source": [
    "android_rank = []\n",
    "ios_rank = []\n",
    "for j in range (len(df['app_id_unified'])): \n",
    "    if df['app_id_ios'][j] != 'DNE':\n",
    "        r_rank_ios = requests.get('https://api.sensortower.com/v1/ios/category/category_history?'+\n",
    "                      'app_id='+ str(df['app_id_ios'][j]) +\n",
    "                      '&category=6014'+\n",
    "                      '&chart_type_id=topfreeapplications'+\n",
    "                      '&country=US'+\n",
    "                      '&start_date=2012-01-01'+\n",
    "                      '&end_date=2020-12-31'+\n",
    "                      '&auth_token=r7cTTJq5nBSqxMU_WmJo')\n",
    "        temp_json = r_rank_ios.json()\n",
    "        if str(df['app_id_ios'][j]) in temp_json:\n",
    "            templist = temp_json[str(df['app_id_ios'][j])]['US']['6014']['topfreeapplications']['graphData']\n",
    "            ios_rank.append(min([i[1] for i in templist]))\n",
    "        else:\n",
    "            ios_rank.append('DNE')\n",
    "    else:\n",
    "        ios_rank.append('DNE')\n",
    "            \n",
    "            \n",
    "    '''\n",
    "    if df['app_id_android'][j] != 'DNE':\n",
    "        r_rank_android = requests.get('https://api.sensortower.com/v1/android/category/category_history?'+\n",
    "                      'app_id='+ df['app_id_android'][j]+\n",
    "                      '&category=6014'+\n",
    "                      '&chart_type_id=topselling_free'+\n",
    "                      '&country=US'+\n",
    "                      '&start_date=2012-01-01'+\n",
    "                      '&end_date=2020-12-31'+\n",
    "                      '&auth_token=r7cTTJq5nBSqxMU_WmJo')\n",
    "        temp_json = r_rank_android.json()\n",
    "        if str(df['app_id_android'][j]) in temp_json:\n",
    "            templist = r_rank_android.json()[df['app_id_android'][j]]['US']['6014']['topselling_free']['graphData']\n",
    "            android_rank.append(min([i[1] for i in templist]))\n",
    "        else:\n",
    "            android_rank.append('DNE')\n",
    "    else:\n",
    "        android_rank.append('DNE')\n",
    "    '''\n",
    "    "
   ]
  },
  {
   "cell_type": "code",
   "execution_count": null,
   "metadata": {},
   "outputs": [],
   "source": [
    "ios_rank"
   ]
  },
  {
   "cell_type": "code",
   "execution_count": null,
   "metadata": {},
   "outputs": [],
   "source": [
    "df['ios_Top_rank'] = ios_rank"
   ]
  },
  {
   "cell_type": "code",
   "execution_count": null,
   "metadata": {},
   "outputs": [],
   "source": [
    "df.to_csv('App_info.csv')"
   ]
  },
  {
   "cell_type": "code",
   "execution_count": null,
   "metadata": {},
   "outputs": [],
   "source": []
  }
 ],
 "metadata": {
  "kernelspec": {
   "display_name": "Python 3",
   "language": "python",
   "name": "python3"
  },
  "language_info": {
   "codemirror_mode": {
    "name": "ipython",
    "version": 3
   },
   "file_extension": ".py",
   "mimetype": "text/x-python",
   "name": "python",
   "nbconvert_exporter": "python",
   "pygments_lexer": "ipython3",
   "version": "3.6.4"
  }
 },
 "nbformat": 4,
 "nbformat_minor": 4
}
